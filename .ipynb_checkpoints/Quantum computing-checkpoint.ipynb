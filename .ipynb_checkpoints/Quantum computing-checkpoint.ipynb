{
 "cells": [
  {
   "cell_type": "markdown",
   "id": "384fc073",
   "metadata": {},
   "source": [
    "![Qiskit](data:image/png;base64,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)"
   ]
  },
  {
   "cell_type": "markdown",
   "id": "e0728d18",
   "metadata": {},
   "source": [
    "#  Using Qiskit Through the Math Framework of Quantum Mechanics"
   ]
  },
  {
   "cell_type": "code",
   "execution_count": 1,
   "id": "e3643396",
   "metadata": {},
   "outputs": [],
   "source": [
    "import numpy as np\n",
    "import matplotlib.pyplot as plt"
   ]
  },
  {
   "cell_type": "markdown",
   "id": "83f85997",
   "metadata": {},
   "source": [
    "## Table of Contents\n",
    "\n",
    "- [Quantum Computing Notation](#p)<br>\n",
    "\n",
    "- [Postulates of Quantum Mechanics](#0)\n",
    "    - [📜 1. A Quantum System](#1)  \n",
    "    - [🔎 2. Expected Value and Measurement Probability](#2)  \n",
    "    - [🌊 3. Wave function Collapse](#3)\n",
    "    - [🔗 4. Composed Systems](#4)  \n",
    "        - [Computational Basis $\\mathbf{|n\\rangle}$](#4.1)\n",
    "    - [🕰️ 5. Time Evolution](#5)\n",
    "        - [Pauli Gates](#5.1)\n",
    "        - [Hadamard Gate](#5.2)\n",
    "        - [Phase Shift Gate](#5.3)\n",
    "        \n",
    "- [Massive Quantum Parallelism](#parallelism)\n",
    "\n",
    "- [CNOT Gate](#cnot)\n",
    "\n",
    "- [SWAP Gate](#swap)\n",
    "\n",
    "- [$|\\pm\\rangle$ Bases](#alternative-bases)\n",
    "\n",
    "- [Entanglement and Bell States](#entanglement)\n"
   ]
  },
  {
   "cell_type": "markdown",
   "id": "7db4eebc",
   "metadata": {},
   "source": [
    "<a id=\"p\"></a>\n",
    "##  Quantum Computing Notation\n",
    "\n",
    "Before we begin, let's establish some basic notations in quantum mechanics.\n",
    "\n",
    "<table style=\" \n",
    "             margin: 20px auto; \n",
    "             border-collapse: collapse; \n",
    "             background: white; \n",
    "             box-shadow: 0px 5px 15px rgba(0, 0, 0, 0.3); \n",
    "             border-radius: 12px; \n",
    "             overflow: hidden; \n",
    "             border: 3px solid #2c3e50;\">\n",
    "\n",
    "   <tr style=\"background: #004080; color: white; font-size: 12px;\">\n",
    "        <th style=\"text-align: center; padding: 12px;\">Operation Name</th>\n",
    "        <th style=\"text-align: center; padding: 12px;\">Symbol</th>\n",
    "        <th style=\"text-align: center; padding: 12px;\">Representation in Space</th>\n",
    "   </tr>\n",
    "   <tr>\n",
    "        <td style=\"text-align: center; padding: 12px;\">Ket</td>\n",
    "        <td style=\"text-align: center; padding: 12px;\">\\(\\left| \\psi \\right\\rangle\\)</td>\n",
    "        <td style=\"text-align: center; padding: 12px;\">\\(\\begin{pmatrix} \\psi_1 \\\\ \\vdots \\\\ \\psi_n \\end{pmatrix}\\)</td>\n",
    "   </tr>\n",
    "   <tr>\n",
    "        <td style=\"text-align: center; padding: 12px;\">Bra</td>\n",
    "        <td style=\"text-align: center; padding: 12px;\">\\(\\left\\langle \\phi \\right|\\)</td>\n",
    "        <td style=\"text-align: center; padding: 12px;\">\\((\\phi_1 \\quad \\dots \\quad \\phi_n)\\)</td>\n",
    "   </tr>\n",
    "   <tr>\n",
    "        <td style=\"text-align: center; padding: 12px;\">Bra-Ket (Inner Product)</td>\n",
    "        <td style=\"text-align: center; padding: 12px;\">\\(\\left\\langle \\psi | \\phi \\right\\rangle\\)</td>\n",
    "        <td style=\"text-align: center; padding: 12px;\">\\(\\mathbb{C}\\)</td>\n",
    "   </tr>\n",
    "   <tr>\n",
    "        <td style=\"text-align: center; padding: 12px;\">Linear Operator</td>\n",
    "        <td style=\"text-align: center; padding: 12px;\">\\(\\left| \\psi \\right\\rangle \\left\\langle \\phi \\right|\\)</td>\n",
    "        <td style=\"text-align: center; padding: 12px;\">\\(M_{n \\times n}(\\mathbb{C})\\)</td>\n",
    "   </tr>\n",
    "</table>\n",
    "\n",
    "> **Bra-Ket notation** is fundamental in quantum mechanics, reminder: $\\langle \\phi | \\psi  \\rangle = \\psi_1 \\overline{\\phi_1} + \\dots + \\psi_n \\overline{\\phi_n}$\n",
    ">* The inner product in quantum theory is homogeneous with respect to the second component.\n",
    "***"
   ]
  },
  {
   "cell_type": "markdown",
   "id": "0c7960b6",
   "metadata": {},
   "source": [
    "<a id=\"0\"></a>\n",
    "# Postulates of Quantum Mechanics\n",
    "\n",
    "#### Quantum mechanics is governed by five fundamental postulates that establish its mathematical framework and physical interpretation."
   ]
  },
  {
   "cell_type": "markdown",
   "id": "3a5e12e6",
   "metadata": {},
   "source": [
    "<hr style=\"height:2px; background-color:black; border:none;\">"
   ]
  },
  {
   "cell_type": "markdown",
   "id": "4c9aff7a",
   "metadata": {},
   "source": [
    "<a id=\"1\"></a>\n",
    "## 📜 1. A Quantum System  \n",
    "\n",
    "#### A **quantum system** is represented by a **complex Hilbert space** $\\mathcal{H}$,  where each **unit vector** corresponds to a quantum state.\n",
    "\n",
    "---\n",
    "\n",
    "####  **State**  \n",
    "A quantum state is a vector $|\\psi\\rangle \\in \\mathcal{H}$ satisfying:  \n",
    "$$\\|\\psi\\| = 1.$$\n",
    "\n",
    "---\n",
    "\n",
    "####  **Superposition**  \n",
    "If $|\\varphi\\rangle, |\\psi\\rangle \\in \\mathcal{H}$ are quantum states,  \n",
    "then any linear combination is also a valid state:  \n",
    "$$ a|\\varphi\\rangle + b|\\psi\\rangle, \\quad \\text{where } a, b \\in \\mathbb{C}, \\quad |a|^2 + |b|^2 = 1. $$\n",
    "\n",
    "---\n",
    "\n",
    "####  **Qubit**  \n",
    "The fundamental quantum states are:  \n",
    "$$ |0\\rangle = \\begin{pmatrix} 1 \\\\ 0 \\end{pmatrix}, \\quad |1\\rangle = \\begin{pmatrix} 0 \\\\ 1 \\end{pmatrix}. $$\n",
    "\n",
    "Any **superposition** of these states is given by:  \n",
    "$$ \\alpha |0\\rangle + \\beta |1\\rangle, \\quad \\text{for } \\alpha, \\beta \\in \\mathbb{C}, \\quad |\\alpha|^2 + |\\beta|^2 = 1. $$\n",
    "\n",
    "<!-- ---\n",
    "\n",
    "* **Quantum mechanics thrives on superposition and entanglement!** 🚀 -->\n",
    "\n",
    "\n",
    "***"
   ]
  },
  {
   "cell_type": "markdown",
   "id": "6f42a1fa",
   "metadata": {},
   "source": [
    "#### 💻 Quantum Circuit: Single-Qubit $|q\\rangle$\n",
    "\n",
    "In this quantum circuit, we will create a **quantum register** with a single qubit and represent it as the state $|q\\rangle$."
   ]
  },
  {
   "cell_type": "code",
   "execution_count": 2,
   "id": "3b500dfb",
   "metadata": {},
   "outputs": [
    {
     "data": {
      "image/png": "[encoded data removed]",
      "text/plain": [
       "<Figure size 143.647x117.056 with 1 Axes>"
      ]
     },
     "execution_count": 2,
     "metadata": {},
     "output_type": "execute_result"
    }
   ],
   "source": [
    "# Import necessary libraries from Qiskit\n",
    "from qiskit import QuantumCircuit\n",
    "from qiskit.visualization import plot_histogram\n",
    "\n",
    "# Create a quantum circuit with 1 qubit\n",
    "qc = QuantumCircuit(1)\n",
    "\n",
    "# Display the quantum circuit\n",
    "qc.draw('mpl', style=\"clifford\")"
   ]
  },
  {
   "cell_type": "markdown",
   "id": "c4d0bfe7",
   "metadata": {},
   "source": [
    "<hr style=\"height:2px; background-color:black; border:none;\">"
   ]
  },
  {
   "cell_type": "markdown",
   "id": "b7de5b4a",
   "metadata": {},
   "source": [
    "<a id=\"2\"></a>\n",
    "## 🔎 **2. Expected Value and Measurement Probability** \n",
    "\n",
    "The observable **A** is self-adjoint (and unitary) for the state $|\\psi\\rangle$:\n",
    "\n",
    "$$\n",
    "\\langle A \\rangle_\\psi := \\langle \\psi | A | \\psi \\rangle = \\langle \\psi | \\sum_j \\lambda_j | e_j \\rangle \\langle e_j | \\psi \\rangle = \\sum_j \\lambda_j \\langle \\psi | e_j \\rangle \\langle e_j | \\psi \\rangle = \\sum_j \\lambda_j |\\langle \\psi | e_j \\rangle|^2\n",
    "$$\n",
    "<p style=\"font-size:20px;\">\n",
    "    <span style=\"margin-right: 205px;\">&nbsp;</span>\n",
    "    <span style=\"margin-right: 485px;\">&#129033;</span>\n",
    "    <span >&#129033;</span>\n",
    "</p>\n",
    "<p style=\"font-size:12px;\">\n",
    "    <span style=\"margin-right: 190px;\">&nbsp;</span>\n",
    "    <span style=\"margin-right: 400px;\">A – Observable</span>\n",
    "    <span style=\"margin-right: 100px;\">Measurement Probability</span>\n",
    "\n",
    "</p>\n",
    "\n",
    "\n",
    "<!-- #### 🔑 **Key Definitions**  -->\n",
    "\n",
    " \n",
    "\n",
    "  > $\\mathbf{|\\langle \\psi | e_j \\rangle|^2}$ satisfies the Probability condition:  \n",
    "  >1. $\\sum_{j} |\\langle \\psi | e_j \\rangle|^2 = \\|\\psi\\|^2 = 1$ \n",
    "  >2. $|\\langle \\psi | e_j \\rangle|^2 \\geq 0$\n",
    " <br>\n",
    ">\n",
    "> $\\mathbf{\\lambda_j}$ expectation value – A measurement of the observable yields the eigenvalue (expectation value) with the probability $|\\langle \\psi | e_j \\rangle|^2$.\n",
    "\n",
    "---\n",
    "\n",
    "####  **Global Phase and Ray Equivalence** \n",
    "\n",
    "From the definition of an observable, the equivalence class under global phase transformations is called a **Ray**:\n",
    "\n",
    "$$\n",
    "\\langle A \\rangle_{e^{i\\alpha} \\psi} = \\langle e^{i\\alpha} \\psi | A | e^{i\\alpha} \\psi \\rangle = e^{(i\\alpha - i\\alpha)} \\langle \\psi | A | \\psi \\rangle = \\langle \\psi | A | \\psi \\rangle = \\langle A \\rangle_{\\psi}\n",
    "$$\n",
    "\n",
    "---\n",
    "\n",
    "####  **Observations** \n",
    "1. **Self-adjoint** implies the operator corresponds to a real expectation value.\n",
    "2. **Unitary transformations** preserve measurement probabilities and expectations.\n",
    "\n",
    "\n",
    "<hr style=\"height:2px; background-color:black; border:none;\">"
   ]
  },
  {
   "cell_type": "markdown",
   "id": "ed33039b",
   "metadata": {},
   "source": [
    "<a id=\"3\"></a>\n",
    "## 🌊 **3. Wave function Collapse** \n",
    "\n",
    "If $\\lambda_j$ is measured, then the state after measurement is $|e_j \\rangle$.\n",
    "\n",
    "---\n",
    "\n",
    "#### **Wavefunction Collapse**\n",
    "* When a measurement of an observable is made on a quantum system, the wavefunction **collapses** to one of the eigenstates corresponding to the measured eigenvalue.<br>\n",
    "* **After Measurement**:  \n",
    "  The state of the system collapses to the eigenstate $|e_j \\rangle$ associated with the eigenvalue $\\lambda_j$.\n",
    "\n",
    ">#### 🔑 **Key Notes** \n",
    ">- **Collapse** is instantaneous and probabilistic, meaning that the system \"chooses\" one of the possible eigenstates.\n",
    ">- The **probability** of measuring $\\lambda_j$ is given by the square of the amplitude, $|\\langle \\psi | e_j \\rangle|^2$.\n",
    "\n",
    "\n",
    "***"
   ]
  },
  {
   "cell_type": "markdown",
   "id": "c79039ba",
   "metadata": {},
   "source": [
    "#### 💻 In a quantum circuit, a measurement is represented as follows: "
   ]
  },
  {
   "cell_type": "code",
   "execution_count": 3,
   "id": "47bd1d6a",
   "metadata": {},
   "outputs": [
    {
     "data": {
      "image/png": "[encoded data removed]",
      "text/plain": [
       "<Figure size 185.453x200.667 with 1 Axes>"
      ]
     },
     "execution_count": 3,
     "metadata": {},
     "output_type": "execute_result"
    }
   ],
   "source": [
    "# Create a quantum circuit with 1 qubit and 1 classical bit\n",
    "qc = QuantumCircuit(1,1)\n",
    "\n",
    "# Measure the qubit and store the result in the classical bit\n",
    "qc.measure(0,0)\n",
    "\n",
    "# Display the quantum circuit\n",
    "qc.draw('mpl', style=\"clifford\")"
   ]
  },
  {
   "cell_type": "markdown",
   "id": "b4d11626",
   "metadata": {},
   "source": [
    "> By default, the observable is the **Pauli-Z operator**.  \n",
    "> After the state collapses to an eigenvector of $Z$, which is $|0\\rangle$ or $|1\\rangle$,  \n",
    "> the information is carried by a classical bit.  \n",
    "\n",
    "---\n",
    "\n",
    "####  **Pauli-Z Operator** \n",
    "The Pauli-Z operator is represented as:\n",
    "\n",
    "$$ \n",
    "Z = \\begin{bmatrix} 1 & 0 \\\\ 0 & -1 \\end{bmatrix} = 1|0\\rangle \\langle 0| - 1|1\\rangle \\langle 1|\n",
    "$$\n",
    "\n",
    "---\n",
    "\n",
    "####  **Example**: \n",
    "\n",
    "For the state:  \n",
    "$$ |q\\rangle = \\alpha |0\\rangle + \\beta |1\\rangle $$  \n",
    "\n",
    " * When measured by the **Pauli-Z** operator with eigenvalue $\\lambda = -1$ the probability:  \n",
    "  $$ |\\langle 1|q \\rangle|^2 = \\left| \\left( \\begin{matrix} 0 & 1 \\end{matrix} \\right) \\begin{pmatrix} \\alpha \\\\ \\beta \\end{pmatrix} \\right|^2 = |\\beta|^2 $$\n",
    "\n",
    " * When measured by the **Pauli-Z** operator with eigenvalue $\\lambda = 1$ the probability:  \n",
    "  $$ |\\langle 0|q \\rangle|^2 = \\left| \\left( \\begin{matrix} 1 & 0 \\end{matrix} \\right) \\begin{pmatrix} \\alpha \\\\ \\beta \\end{pmatrix} \\right|^2 = |\\alpha|^2 $$\n",
    "\n",
    "\n",
    "\n",
    ">#### 🗝️ **Key Takeaways** :\n",
    ">- The measurement outcome is **1** with probability $|\\beta|^2$ and **0** with probability $|\\alpha|^2$.\n",
    ">- The state collapses to either $|0\\rangle$ or $|1\\rangle$ based on the measurement.\n",
    "\n",
    "\n",
    "<hr style=\"height:2px; background-color:black; border:none;\">"
   ]
  },
  {
   "cell_type": "markdown",
   "id": "048336bd",
   "metadata": {},
   "source": [
    "<a id=\"4\"></a>\n",
    "## 🔗**4. composite Systems** \n",
    "\n",
    "\n",
    "The state space of a composite quantum system is described by the tensor product of the individual subsystems' state spaces. If the systems are numbered from 1 to $n$, and the $i$-th system is in the state $|\\psi_i\\rangle \\in \\mathcal{H}_i$, then the joint state of the entire system in the space $\\mathcal{H}_0 \\otimes \\dots \\otimes \\mathcal{H}_{n-1}$ is given by:\n",
    "\n",
    "$$\n",
    "|\\psi_1\\rangle \\otimes |\\psi_2\\rangle \\otimes \\dots \\otimes |\\psi_n\\rangle\n",
    "$$\n",
    "\n",
    "---\n",
    "\n",
    "####  **Tensor Product Example** \n",
    "\n",
    "The explicit form of the tensor product of two vectors is as follows:\n",
    "\n",
    "$$ \n",
    "\\left( a_1 |0\\rangle + b_1 |1\\rangle \\right) \\otimes \\left( a_2 |0\\rangle + b_2 |1\\rangle \\right)\n",
    "= \\begin{pmatrix} a_1 \\\\ b_1 \\end{pmatrix} \\otimes \\begin{pmatrix} a_2 \\\\ b_2 \\end{pmatrix}\n",
    "= \\begin{pmatrix} a_1 \\begin{pmatrix} a_2 \\\\ b_2 \\end{pmatrix} \\\\ b_1 \\begin{pmatrix} a_2 \\\\ b_2 \\end{pmatrix} \\end{pmatrix}\n",
    "$$\n",
    "\n",
    "\n",
    "\n",
    ">#### 🗝️ **Key Notes** :\n",
    ">- The **tensor product** creates a larger vector space by combining the individual states of each subsystem.\n",
    ">- This can be extended to any dimension of the vectors, meaning it is applicable to systems of multiple qubits or higher-dimensional states.\n",
    "\n",
    "\n",
    "***\n",
    "<a id=\"4.1\"></a>\n",
    "###  Computational Basis $\\mathbf{|n\\rangle}$\n",
    "\n",
    "The tensor product allows us to extend the definition of qubits $ |0\\rangle $ and $ |1\\rangle $ to any natural number $ n \\in \\mathbb{N} $ using the binary representation of $ n $.\n",
    "\n",
    "#### binary representation of n:\n",
    "\n",
    "$$\n",
    "|0\\rangle=|00\\rangle = \\begin{pmatrix} 1 \\\\ 0 \\\\ 0 \\\\ 0 \\end{pmatrix}, \n",
    "|1\\rangle=|01\\rangle = \\begin{pmatrix} 0 \\\\ 1 \\\\ 0 \\\\ 0 \\end{pmatrix}, \n",
    "|2\\rangle=|10\\rangle = \\begin{pmatrix} 0 \\\\ 0 \\\\ 1 \\\\ 0 \\end{pmatrix}, \n",
    "|3\\rangle=|11\\rangle = \\begin{pmatrix} 0 \\\\ 0 \\\\ 0 \\\\ 1 \\end{pmatrix}\n",
    "$$\n",
    "***"
   ]
  },
  {
   "cell_type": "markdown",
   "id": "3c94d4ac",
   "metadata": {},
   "source": [
    "#### 💻 **In a quantum circuit, a tensor product of two bits is represented as follows:** "
   ]
  },
  {
   "cell_type": "code",
   "execution_count": 4,
   "id": "ceba0306",
   "metadata": {},
   "outputs": [
    {
     "data": {
      "image/png": "[encoded data removed]",
      "text/plain": [
       "<Figure size 161.878x200.667 with 1 Axes>"
      ]
     },
     "execution_count": 4,
     "metadata": {},
     "output_type": "execute_result"
    }
   ],
   "source": [
    "# Create a quantum circuit with 2 qubits\n",
    "qc = QuantumCircuit(2)\n",
    "\n",
    "# Display the quantum circuit\n",
    "qc.draw('mpl', style=\"clifford\")"
   ]
  },
  {
   "cell_type": "markdown",
   "id": "18a59f10",
   "metadata": {},
   "source": [
    ">**The Quantum Circuit Represents:**\n",
    ">\n",
    ">$$\n",
    "|q_0\\rangle \\otimes |q_1\\rangle\n",
    "$$\n",
    ">* **Explanation:**\n",
    "This quantum circuit represents the **tensor product** of two quantum states $ |q_0\\rangle $ and $ |q_1\\rangle $. The overall state of the system is the tensor product of these two states.\n",
    "\n",
    "<hr style=\"height:2px; background-color:black; border:none;\">"
   ]
  },
  {
   "cell_type": "markdown",
   "id": "8d6bf162",
   "metadata": {},
   "source": [
    "<a id=\"5\"></a>\n",
    "## 🕰️ 5.  **Time Evolution**\n",
    "\n",
    "The time evolution of a closed quantum system is described by a unitary operator, known as a **quantum gate**. For a state $ |\\psi_0 \\rangle \\in \\mathcal{H}^{\\otimes n} $ at time $ t_0 $ and a state $ |\\psi_1 \\rangle \\in \\mathcal{H}^{\\otimes n} $ at time $ t_1 $, there exists a unitary operator $ U_n: \\mathcal{H}^{\\otimes n} \\to \\mathcal{H}^{\\otimes n} $ satisfying:\n",
    "\n",
    "$$\n",
    "|\\psi_1 \\rangle = U_n |\\psi_0 \\rangle\n",
    "$$\n",
    "\n",
    "\n",
    "* For every pure state $ |\\psi\\rangle \\in \\mathcal{H}^{\\otimes n} $ and every unitary operator $ U_n \\in \\mathcal{U}(\\mathcal{H}^{\\otimes n}) $, the state $ U_n |\\psi\\rangle $ is also a valid state, since:\n",
    "\n",
    "$$\n",
    "\\langle U_n \\psi | U_n \\psi \\rangle = \\langle \\psi | \\psi \\rangle = 1\n",
    "$$\n",
    "\n",
    "* Unitary gates preserve the probability space.\n",
    "<a id=\"5.01\"></a>\n",
    "* If $ A \\in M_{2 \\times 2}(\\mathbb{C}) $ is a unitary observable, then a measurement in the Pauli-$ Z $ basis and a quantum  gate $ U $ are sufficient to measure in the $ A $ basis. This is because unitarity implies eigenvalues on the unit circle, and being self-adjoint ensures real eigenvalues. As a result, we obtain eigenvalues $ \\pm 1 $.\n",
    "\n",
    "$$\n",
    "\\langle A \\rangle_{\\psi} := \\langle \\psi | A \\psi \\rangle = \\langle \\psi | U^* Z U \\psi \\rangle = \\langle U \\psi | Z U \\psi \\rangle =: \\langle Z \\rangle_{U \\psi}\n",
    "$$\n",
    "***\n",
    "<a id=\"5.1\"></a>\n",
    "#### **Pauli Gates:**\n",
    "\n",
    "$$\n",
    "Z = \\begin{bmatrix} 1 & 0 \\\\ 0 & -1 \\end{bmatrix}, \\quad\n",
    "Y = \\begin{bmatrix} 0 & -i \\\\ i & 0 \\end{bmatrix}, \\quad\n",
    "X = \\begin{bmatrix} 0 & 1 \\\\ 1 & 0 \\end{bmatrix}\n",
    "$$\n",
    "<a id=\"5.2\"></a>\n",
    "#### **Hadamard Gate:**\n",
    "\n",
    "$$\n",
    "H = \\frac{1}{\\sqrt{2}} \\begin{bmatrix} 1 & 1 \\\\ 1 & -1 \\end{bmatrix}\n",
    "$$\n",
    "<a id=\"5.3\"></a>\n",
    "#### **Phase Shift Gate:**\n",
    "\n",
    "$$\n",
    "P(\\lambda) = \\begin{bmatrix} 1 & 0 \\\\ 0 & e^{i\\lambda} \\end{bmatrix}\n",
    "$$\n",
    "\n",
    "\n"
   ]
  },
  {
   "cell_type": "markdown",
   "id": "e2a3a231",
   "metadata": {},
   "source": [
    "#### 💻In a quantum circuit, 2D gates are represented by squares."
   ]
  },
  {
   "cell_type": "code",
   "execution_count": 5,
   "id": "73c0a716",
   "metadata": {},
   "outputs": [
    {
     "data": {
      "image/png": "[encoded data removed]",
      "text/plain": [
       "<Figure size 519.897x117.056 with 1 Axes>"
      ]
     },
     "execution_count": 5,
     "metadata": {},
     "output_type": "execute_result"
    }
   ],
   "source": [
    "# Create a quantum circuit with 1 qubit\n",
    "qc = QuantumCircuit(1)\n",
    "\n",
    "# Apply Pauli-Z gate\n",
    "qc.z(0)\n",
    "\n",
    "# Apply Pauli-Y gate\n",
    "qc.y(0)\n",
    "\n",
    "# Apply Pauli-X gate\n",
    "qc.x(0)\n",
    "\n",
    "# Apply Hadamard gate\n",
    "qc.h(0)\n",
    "\n",
    "# Apply Phase Shift gate with lambda = π/4\n",
    "qc.p(np.pi/4, 0)\n",
    "\n",
    "# Display the quantum circuit\n",
    "qc.draw('mpl', style=\"clifford\")"
   ]
  },
  {
   "cell_type": "markdown",
   "id": "6ada1dd7",
   "metadata": {},
   "source": [
    ">The circuit represents: $P(\\frac{\\pi}{4})HXYZ|q\\rangle$\n",
    "\n",
    "*****"
   ]
  },
  {
   "cell_type": "markdown",
   "id": "1e922a98",
   "metadata": {},
   "source": [
    "#### Now we are ready to explore quantum gates that operate on more than one qubit.\n",
    "\n",
    "We can also take the **tensor product** of quantum gates.  \n",
    "**The tensor product of operators is given by:**\n",
    "\n",
    "$$\n",
    "A \\otimes B =\n",
    "\\begin{bmatrix}\n",
    "A_{11} B & \\cdots & A_{1n_a} B \\\\\n",
    "\\vdots & \\ddots & \\vdots \\\\\n",
    "A_{n_a1} B & \\cdots & A_{n_a n_a} B\n",
    "\\end{bmatrix}\n",
    "$$\n",
    "\n",
    "**The tensor product of gates is itself a gate:**  \n",
    "If $ A \\in \\mathcal{U}(\\mathcal{H}_A) $ and $ B \\in \\mathcal{U}(\\mathcal{H}_B) $, then $ A \\otimes B \\in \\mathcal{U}(\\mathcal{H}_A \\otimes \\mathcal{H}_B) $.  \n",
    "\n",
    "``` This guarantees that the tensor product of unitary gates is also unitary.  ```\n",
    "***"
   ]
  },
  {
   "cell_type": "markdown",
   "id": "914c387d",
   "metadata": {},
   "source": [
    "<a id=\"parallelism\"></a>\n",
    "## Massive Quantum Parallelism\n",
    "\n",
    "#### 💻 Example: The Tensor Product of Hadamard gate applied to two qubits in a Quantum Circuit on $|00\\rangle$\n",
    "\n",
    "$$ H \\otimes H = \\frac{1}{\\sqrt{2}}\n",
    "\\begin{bmatrix}\n",
    "1 & 1 \\\\\n",
    "1 & -1\n",
    "\\end{bmatrix}\n",
    "\\otimes\n",
    "\\frac{1}{\\sqrt{2}}\n",
    "\\begin{bmatrix}\n",
    "1 & 1 \\\\\n",
    "1 & -1\n",
    "\\end{bmatrix}\n",
    "$$\n",
    "\n",
    "* This operation creates a **superposition** of all possible computational basis states with equal probability.\n"
   ]
  },
  {
   "cell_type": "code",
   "execution_count": 6,
   "id": "510b85cc",
   "metadata": {},
   "outputs": [
    {
     "data": {
      "image/png": "[encoded data removed]",
      "text/plain": [
       "<Figure size 203.481x200.667 with 1 Axes>"
      ]
     },
     "execution_count": 6,
     "metadata": {},
     "output_type": "execute_result"
    }
   ],
   "source": [
    "from qiskit import QuantumRegister\n",
    "\n",
    "# Create a quantum register with 1 qubit\n",
    "qr = QuantumRegister(2, \"0\")\n",
    "\n",
    "# Create a quantum circuit with this quantum register\n",
    "qc = QuantumCircuit(qr)\n",
    "\n",
    "# Apply Hadamard gate\n",
    "qc.h(0)\n",
    "\n",
    "# Apply Hadamard gate\n",
    "qc.h(1)\n",
    "\n",
    "# Display the quantum circuit in your Jupyter Notebook\n",
    "qc.draw('mpl', style=\"clifford\")"
   ]
  },
  {
   "cell_type": "markdown",
   "id": "19197508",
   "metadata": {},
   "source": [
    ">## Massive Quantum Parallelism\n",
    ">\n",
    ">This example is fundamental to many quantum algorithms. Applying the Hadamard gate $H^{\\otimes n}$ (with $n = 2$) on the initial state $|00\\rangle$ creates a superposition of all numbers from $|0\\rangle$ to $|2^n - 1\\rangle$.\n",
    ">\n",
    ">In the explicit form:\n",
    ">\n",
    ">$$\n",
    "H \\otimes H |00\\rangle = \\frac{1}{2}\n",
    "\\begin{bmatrix}\n",
    "1 & 1 & 1 & 1 \\\\\n",
    "1 & -1 & 1 & -1 \\\\\n",
    "1 & 1 & -1 & -1 \\\\\n",
    "1 & -1 & -1 & 1\n",
    "\\end{bmatrix}\n",
    "\\begin{bmatrix}\n",
    "1 \\\\\n",
    "0 \\\\\n",
    "0 \\\\\n",
    "0\n",
    "\\end{bmatrix}\n",
    "= \\frac{1}{2}\n",
    "\\begin{bmatrix}\n",
    "1 \\\\\n",
    "1 \\\\\n",
    "1 \\\\\n",
    "1\n",
    "\\end{bmatrix}\n",
    "$$\n",
    ">\n",
    ">Which simplifies to:\n",
    ">\n",
    ">$$\n",
    "= \\frac{1}{2}\n",
    "\\left(\n",
    "\\begin{bmatrix}\n",
    "1 \\\\\n",
    "0 \\\\\n",
    "0 \\\\\n",
    "0\n",
    "\\end{bmatrix}\n",
    "+\n",
    "\\begin{bmatrix}\n",
    "0 \\\\\n",
    "1 \\\\\n",
    "0 \\\\\n",
    "0\n",
    "\\end{bmatrix}\n",
    "+\n",
    "\\begin{bmatrix}\n",
    "0 \\\\\n",
    "0 \\\\\n",
    "1 \\\\\n",
    "0\n",
    "\\end{bmatrix}\n",
    "+\n",
    "\\begin{bmatrix}\n",
    "0 \\\\\n",
    "0 \\\\\n",
    "0 \\\\\n",
    "1\n",
    "\\end{bmatrix}\n",
    "\\right)\n",
    "= \\frac{1}{2} \\left( |00\\rangle + |01\\rangle + |10\\rangle + |11\\rangle \\right)\n",
    "$$\n",
    ">\n",
    ">Or equivalently:\n",
    ">\n",
    ">$$\n",
    "= \\frac{1}{2} (|0\\rangle + |1\\rangle + |2\\rangle + |3\\rangle)\n",
    "$$\n",
    ">\n",
    ">### Equal Probability:\n",
    ">Each state in the superposition has an equal probability, and since there are 4 states, the probability for each is:\n",
    ">\n",
    ">$$\n",
    "\\left( \\frac{1}{2} \\right)^2 = \\frac{1}{4} \\quad \\text{(25% for each state)}.\n",
    "$$\n",
    ">\n",
    ">This explanation correctly communicates the creation of the superposition, the equal probability for each state, and the use of the Hadamard gate.\n"
   ]
  },
  {
   "cell_type": "markdown",
   "id": "44329f30",
   "metadata": {},
   "source": [
    "<a id=\"cnot\"></a>\n",
    "##  The CNOT (Controlled-X) Gate\n",
    "\n",
    "The **CNOT gate** is a fundamental two-qubit gate that flips the target qubit **only if** the control qubit is **|1⟩**.\n",
    "\n",
    "#### **Matrix Representation:**\n",
    "$$\n",
    "C\\text{-}X =\n",
    "\\begin{bmatrix}\n",
    "1 & 0 & 0 & 0 \\\\\n",
    "0 & 1 & 0 & 0 \\\\\n",
    "0 & 0 & 0 & 1 \\\\\n",
    "0 & 0 & 1 & 0\n",
    "\\end{bmatrix}\n",
    "$$\n",
    "\n",
    "#### **How It Works:**\n",
    "- If the **control qubit** is **|0⟩**, the target qubit remains unchanged.\n",
    "- If the **control qubit** is **|1⟩**, the target qubit undergoes a **Pauli-X (bit-flip) operation**.\n",
    "\n",
    "#### **State Transformations:**\n",
    "$$\n",
    "|00\\rangle \\to |00\\rangle, \\quad\n",
    "|01\\rangle \\to |01\\rangle, \\quad\n",
    "|10\\rangle \\to |11\\rangle, \\quad\n",
    "|11\\rangle \\to |10\\rangle\n",
    "$$\n"
   ]
  },
  {
   "cell_type": "markdown",
   "id": "a1289292",
   "metadata": {},
   "source": [
    "#### 💻 CNOT Gates in a Quantum Circuit"
   ]
  },
  {
   "cell_type": "code",
   "execution_count": 7,
   "id": "06308a7f",
   "metadata": {},
   "outputs": [
    {
     "data": {
      "image/png": "[encoded data removed]",
      "text/plain": [
       "<Figure size 203.683x200.667 with 1 Axes>"
      ]
     },
     "execution_count": 7,
     "metadata": {},
     "output_type": "execute_result"
    }
   ],
   "source": [
    "# Create a quantum circuit with 2 qubits\n",
    "qc = QuantumCircuit(2)\n",
    "\n",
    "# Add a CNOT gate, with qubit 0 as the control and qubit 1 as the target\n",
    "qc.cx(0, 1)\n",
    "\n",
    "# Display the quantum circuit in your Jupyter Notebook\n",
    "qc.draw('mpl', style=\"clifford\")"
   ]
  },
  {
   "cell_type": "markdown",
   "id": "6407b47e",
   "metadata": {},
   "source": [
    ">**Circuit Representation:**\n",
    ">- The control qubit is represented by a **●** (dot).\n",
    ">- The target qubit is represented by a **⊕** (plus sign).\n",
    "***"
   ]
  },
  {
   "cell_type": "markdown",
   "id": "3892d875",
   "metadata": {},
   "source": [
    "<a id=\"swap\"></a>\n",
    "## SWAP Gate\n",
    "\n",
    "The **SWAP** gate swaps the states of two qubits.\n",
    "\n",
    "#### **Matrix Representation:**\n",
    "$$\n",
    "\\text{SWAP} =\n",
    "\\begin{bmatrix}\n",
    "1 & 0 & 0 & 0 \\\\\n",
    "0 & 0 & 1 & 0 \\\\\n",
    "0 & 1 & 0 & 0 \\\\\n",
    "0 & 0 & 0 & 1\n",
    "\\end{bmatrix}\n",
    "$$"
   ]
  },
  {
   "cell_type": "markdown",
   "id": "305bec71",
   "metadata": {},
   "source": [
    "#### 💻**Constructing SWAP Using CNOT Gates**\n",
    "The SWAP gate can be implemented using three **CNOT** gates:"
   ]
  },
  {
   "cell_type": "code",
   "execution_count": 8,
   "id": "31e9143f",
   "metadata": {},
   "outputs": [
    {
     "data": {
      "image/png": "[encoded data removed]",
      "text/plain": [
       "<Figure size 800x800 with 2 Axes>"
      ]
     },
     "metadata": {},
     "output_type": "display_data"
    }
   ],
   "source": [
    "# Create a quantum Circuit with 2 qubits for the first 3-CNOT circuit\n",
    "qc1 = QuantumCircuit(2)\n",
    "qc1.cx(0, 1)\n",
    "qc1.cx(1, 0)\n",
    "qc1.cx(0, 1)\n",
    "\n",
    "# Create a quantum circuit with 2 qubits for the swap gate\n",
    "qc2 = QuantumCircuit(2)\n",
    "qc2.swap(0, 1)\n",
    "\n",
    "# Draw both circuits with the same figure size\n",
    "fig, axs = plt.subplots(1, 2, figsize=(8, 8))  # Adjusted figure size to be the same for both\n",
    "\n",
    "# Draw the first circuit (3-CNOT) and the second circuit (SWAP)\n",
    "qc1.draw('mpl', style=\"clifford\",ax=axs[0])  # First circuit (3-CNOT)\n",
    "qc2.draw('mpl', style=\"clifford\",ax=axs[1])  # Second circuit (SWAP)\n",
    "\n",
    "# Display the figure with both circuits\n",
    "plt.show()"
   ]
  },
  {
   "cell_type": "markdown",
   "id": "05a6b8e4",
   "metadata": {},
   "source": [
    ">## General Controlled Gates\n",
    ">\n",
    ">We can also construct **general controlled gates** $U$, where a unitary operator $U$ is applied to a target qubit only when the control qubit is in a specific state.\n",
    ">\n",
    ">### Control on $|1\\rangle$ (Standard):\n",
    "A standard controlled gate applies $U$ when the control qubit is in the state $|1\\rangle$.\n",
    ">\n",
    ">### Control on $|0\\rangle$ (Inverted):\n",
    "Alternatively, we can **invert the control**, meaning the gate operates when the control qubit is in $|0\\rangle$ and remains **inactive** when the control qubit is in $|1\\rangle$.\n",
    "***"
   ]
  },
  {
   "cell_type": "markdown",
   "id": "6ff6b4dc",
   "metadata": {},
   "source": [
    "<a id=\"alternative-bases\"></a>\n",
    "## Alternative Bases: The $ |+\\rangle $ and $ |-\\rangle $ States\n",
    "\n",
    "In addition to the standard qubit states $ |0\\rangle $ and $ |1\\rangle $, there exist **other useful bases** in quantum computing.\n",
    "\n",
    "#### **The Hadamard Basis**\n",
    "Applying the **Hadamard gate** $ H $ to $ |0\\rangle $ and $ |1\\rangle $ gives the **superposition states**:\n",
    "\n",
    "$$\n",
    "H|0\\rangle = |+\\rangle = \\frac{1}{\\sqrt{2}}(|0\\rangle + |1\\rangle)\n",
    "$$\n",
    "\n",
    "$$\n",
    "H|1\\rangle = |-\\rangle = \\frac{1}{\\sqrt{2}}(|0\\rangle - |1\\rangle)\n",
    "$$\n",
    "\n",
    "#### 💡 **Why Are These Important?**\n",
    "- The **$ |+\\rangle $ and $ |-\\rangle $ states** form an alternative basis, often used in **quantum algorithms**.\n",
    "- They play a crucial role in **quantum error correction** and **quantum cryptography** (e.g., BB84 protocol).\n",
    "\n",
    "\n",
    "***"
   ]
  },
  {
   "cell_type": "markdown",
   "id": "4e58d1f9",
   "metadata": {},
   "source": [
    "<a id=\"entanglement\"></a>\n",
    "## Entanglement and Bell States\n",
    "\n",
    "From the gates we've explored so far, we notice a fascinating phenomenon in quantum mechanics called **entanglement**. One of the most common ways to demonstrate entanglement is through the **Bell states**.\n",
    "\n",
    "#### **Bell States Creation**\n",
    "\n",
    "A Bell state is a maximally entangled quantum state of two qubits. The following quantum circuit demonstrates how to generate the four Bell states from the initial state $ \\left|00\\right\\rangle $, $ \\left|01\\right\\rangle $, $ \\left|10\\right\\rangle $, and $ \\left|11\\right\\rangle $.\n",
    "\n",
    "- **Step 1: Initialize** both qubits in the state $ \\left|ij\\right\\rangle$ where $i,j \\in \\{0,1\\}$.\n",
    "- **Step 2: Apply a Hadamard gate** to the first qubit, creating a superposition.\n",
    "- **Step 3: Apply a CNOT gate**, where the first qubit acts as the control and the second qubit as the target, creating the entangled state.\n",
    "\n",
    "The resulting Bell states are:\n",
    "\n",
    "1. **$ \\left|\\Phi^+\\right\\rangle = \\frac{1}{\\sqrt{2}} (|00\\rangle + |11\\rangle) $**\n",
    "2. **$ \\left|\\Phi^-\\right\\rangle = \\frac{1}{\\sqrt{2}} (|00\\rangle - |11\\rangle) $**\n",
    "3. **$ \\left|\\Psi^+\\right\\rangle = \\frac{1}{\\sqrt{2}} (|01\\rangle + |10\\rangle) $**\n",
    "4. **$ \\left|\\Psi^-\\right\\rangle = \\frac{1}{\\sqrt{2}} (|01\\rangle - |10\\rangle) $**\n",
    "\n",
    "<!-- #### 🔑 **Why Bell States?**\n",
    "- These states are **maximally entangled**, meaning the qubits share quantum information such that the state of one qubit instantly influences the state of the other.\n",
    "- Bell states are foundational in quantum information theory, including **quantum teleportation**, **quantum key distribution**, and **quantum computing**.\n",
    "\n",
    "### 🔹 Improvements:\n",
    "1. **Clarified the procedure** to create the Bell states.\n",
    "2. **Structured the content** for easier understanding.\n",
    "3. **Formatted mathematical expressions** for better readability. -->\n",
    "#### 💻 circuit creates the 4 Bell states from the initial state"
   ]
  },
  {
   "cell_type": "code",
   "execution_count": 9,
   "id": "eda17346",
   "metadata": {},
   "outputs": [
    {
     "data": {
      "image/png": "[encoded data removed]",
      "text/plain": [
       "<Figure size 287.294x200.667 with 1 Axes>"
      ]
     },
     "execution_count": 9,
     "metadata": {},
     "output_type": "execute_result"
    }
   ],
   "source": [
    "# Create a quantum circuit with 2 qubit\n",
    "qc = QuantumCircuit(2)\n",
    "\n",
    "qc.h(0)\n",
    "qc.cx(0, 1)\n",
    "\n",
    "# Display the quantum circuit\n",
    "qc.draw('mpl', style=\"clifford\")"
   ]
  },
  {
   "cell_type": "markdown",
   "id": "4038ab43",
   "metadata": {},
   "source": [
    ">**Representing the Bell Circuit Matrix**\n",
    ">\n",
    ">The Bell state circuit can be represented by the following matrix:\n",
    ">\n",
    ">$$\n",
    "C\\text{-}X (H \\otimes I) = \\frac{1}{\\sqrt{2}}  \n",
    "\\begin{bmatrix}  \n",
    "1 & 0 & 1 & 0 \\\\  \n",
    "0 & 1 & 0 & 1 \\\\  \n",
    "0 & 1 & 0 & -1 \\\\  \n",
    "1 & 0 & -1 & 0  \n",
    "\\end{bmatrix}\n",
    "$$\n",
    ">\n",
    ">**Example: $ \\left|\\Phi^+\\right\\rangle $:**\n",
    ">\n",
    ">$$\n",
    "C\\text{-}X (H \\otimes I) |00\\rangle = \\frac{1}{\\sqrt{2}} \\left[ \\begin{matrix} 1 \\\\ 0 \\\\ 0 \\\\ 1 \\end{matrix} \\right] = \\frac{1}{\\sqrt{2}} (|00\\rangle + |11\\rangle)\\neq |v\\rangle \\otimes |u\\rangle\n",
    "$$\n",
    ">* There are no two qubits so the Bell basis is a tensor of V and U, that this is not a simple tensor product of individual states.\n",
    ">\n",
    ">\n",
    ">**Entanglement and Non-locality**\n",
    ">\n",
    ">- **Entanglement** is the phenomenon where qubits become linked, so that the state of one qubit determines the state of the other, regardless of distance.\n",
    ">- In the example above, measuring the first qubit immediately gives information about the second qubit. If the first qubit is measured as $ 0 $, the second qubit is also $ 0 $, and similarly for $ 1 $.\n",
    ">- This is what makes entanglement **non-local**, meaning that the measurement of one qubit seems to affect the state of the other qubit, even if they are far apart.\n",
    "> \n",
    ">``` This spooky action at a distance is one of the hallmarks of quantum mechanics.```\n",
    "*** \n"
   ]
  },
  {
   "cell_type": "markdown",
   "id": "f6dfc222",
   "metadata": {},
   "source": [
    "### We are ready to explore a quantum algorithm! \n",
    "\n",
    "The **No-Cloning Theorem** states that it is **impossible** to make an identical copy of an arbitrary unknown qubit.  \n",
    "However, **quantum teleportation** allows for the transfer of a qubit's state without cloning. "
   ]
  },
  {
   "cell_type": "markdown",
   "id": "cc4aa706",
   "metadata": {},
   "source": [
    "# 💻 Quantum teleportation"
   ]
  },
  {
   "cell_type": "code",
   "execution_count": 10,
   "id": "7828f4ba",
   "metadata": {},
   "outputs": [
    {
     "data": {
      "image/png": "[encoded data removed]",
      "text/plain": [
       "<Figure size 788.759x284.278 with 1 Axes>"
      ]
     },
     "execution_count": 10,
     "metadata": {},
     "output_type": "execute_result"
    }
   ],
   "source": [
    "q_for_transfer = QuantumRegister(1, \"𝜓\")\n",
    "q_for_bell = QuantumRegister(2, \"0\")\n",
    "\n",
    "# Create a quantum circuit with 3 qubits and 3 classical bits\n",
    "qc = QuantumCircuit(q_for_transfer,q_for_bell)\n",
    "\n",
    "# Step 1: Create Bell pair between qubits 1 and 2\n",
    "qc.h(1)\n",
    "qc.cx(1, 2)\n",
    "qc.barrier()\n",
    "\n",
    "# Step 2: Apply Bell* on qubits 0 and 1\n",
    "qc.cx(0, 1)\n",
    "qc.h(0)\n",
    "qc.barrier()\n",
    "\n",
    "\n",
    "# Step 3: Apply conditional operations on qubit 2\n",
    "qc.cx(1, 2)\n",
    "qc.cz(0, 2)\n",
    "\n",
    "# Draw the circuit\n",
    "qc.draw('mpl', style=\"clifford\")\n"
   ]
  },
  {
   "cell_type": "markdown",
   "id": "52c215f4",
   "metadata": {},
   "source": [
    ">## Quantum Teleportation Protocol 🚀\n",
    ">\n",
    ">### 1️⃣ Initial State\n",
    ">We start with the state:  \n",
    "$$ |\\psi\\rangle = \\alpha |0\\rangle + \\beta |1\\rangle $$  \n",
    ">\n",
    ">### 2️⃣ Entanglement Creation 🔗  \n",
    "The first step is to entangle the second and third qubits in the **Bell state**:  \n",
    "$$\n",
    "|\\psi\\rangle \\otimes \\left|\\Phi^+\\right\\rangle = \n",
    "$$\n",
    "Expanding this in [Computational Basis](#4.1), we obtain:  \n",
    "$$\n",
    "(\\alpha |0\\rangle + \\beta |1\\rangle) \\otimes \\frac{1}{\\sqrt{2}} (|00\\rangle + |11\\rangle) =\\frac{1}{\\sqrt{2}} (\\alpha |000\\rangle + \\alpha |011\\rangle + \\beta |100\\rangle + \\beta |111\\rangle).\n",
    "$$\n",
    ">\n",
    ">#### 3️⃣ Bell Measurement   \n",
    "Next, we apply a **CNOT gate** as in the circuit:  \n",
    "$$\n",
    "\\frac{1}{\\sqrt{2}} (\\alpha |000\\rangle + \\alpha |011\\rangle + \\beta |110\\rangle + \\beta |101\\rangle).\n",
    "$$ \n",
    "Applying a **Hadamard gate (H) on the first qubit**, we obtain:  \n",
    "$$\n",
    "\\frac{1}{2} (\\alpha |000\\rangle + \\alpha |011\\rangle + \\alpha |100\\rangle + \\alpha |111\\rangle + \\beta |001\\rangle + \\beta |010\\rangle - \\beta |101\\rangle - \\beta |110\\rangle).\n",
    "$$\n",
    ">\n",
    ">#### 4️⃣ Classical Communication and Corrections 🎯  \n",
    "Now, we apply a **controlled-X (C-X) gate** as in the circuit:  \n",
    "$$\n",
    "\\frac{1}{2} (\\alpha |000\\rangle + \\alpha |100\\rangle + \\alpha |010\\rangle + \\alpha |110\\rangle + \\beta |011\\rangle - \\beta |111\\rangle + \\beta |001\\rangle - \\beta |101\\rangle).\n",
    "$$\n",
    "Then, we apply a **controlled-Z (C-Z) gate**:  \n",
    "$$\n",
    "\\frac{1}{2} (\\alpha |000\\rangle + \\alpha |100\\rangle + \\alpha |010\\rangle + \\alpha |110\\rangle + \\beta |011\\rangle + \\beta |111\\rangle + \\beta |001\\rangle + \\beta |101\\rangle).\n",
    "$$\n",
    ">\n",
    ">#### 5️⃣ Final State 🏁  \n",
    "Regardless of the measurement outcome, the coefficient of the **third qubit** is **$\\alpha$** for **$\\left|0\\right\\rangle$** and **$\\beta$** for **$\\left|1\\right\\rangle$** (all with a **positive sign**).  \n",
    "Thus, **independent of measurement**, we successfully reconstruct **$\\left|\\psi\\right\\rangle$**! 🎉\n"
   ]
  },
  {
   "cell_type": "markdown",
   "id": "48156945",
   "metadata": {},
   "source": [
    "## 💻 **Measurement Postponement Principle**\n",
    "\n",
    "Instead of measuring immediately, we **postpone measurement** and observe how the system evolves.  \n",
    "This illustrates the **measurement deferral principle** in quantum mechanics, which suggests that measurements can be delayed to avoid collapsing the quantum state prematurely.\n"
   ]
  },
  {
   "cell_type": "code",
   "execution_count": 11,
   "id": "39e437b2",
   "metadata": {},
   "outputs": [
    {
     "data": {
      "image/png": "[encoded data removed]",
      "text/plain": [
       "<Figure size 956.385x367.889 with 1 Axes>"
      ]
     },
     "execution_count": 11,
     "metadata": {},
     "output_type": "execute_result"
    }
   ],
   "source": [
    "# Create a quantum circuit with 3 qubits and 3 classical bits\n",
    "qc = QuantumCircuit(3, 3)\n",
    "\n",
    "# Step 1: Create Bell pair between qubits 1 and 2\n",
    "qc.h(1)\n",
    "qc.cx(1, 2)\n",
    "qc.barrier()\n",
    "\n",
    "# Step 2: Apply Bell measurement on qubits 0 and 1\n",
    "qc.cx(0, 1)\n",
    "qc.h(0)\n",
    "qc.barrier()\n",
    "qc.measure(0, 0)\n",
    "qc.measure(1, 1)\n",
    "\n",
    "\n",
    "# Step 3: Apply conditional operations on qubit 2\n",
    "qc.cx(1, 2)\n",
    "qc.cz(0, 2)\n",
    "\n",
    "\n",
    "# Draw the circuit\n",
    "qc.draw('mpl', style=\"clifford\")"
   ]
  },
  {
   "cell_type": "markdown",
   "id": "5b287612",
   "metadata": {},
   "source": [
    ">#### 3️⃣ State Before Measurement 🔍  \n",
    "At this stage, the system is in the following quantum state:  \n",
    "$$\n",
    "\\frac{1}{2} (\\alpha |000\\rangle + \\alpha |011\\rangle + \\alpha |100\\rangle + \\alpha |111\\rangle + \\beta |001\\rangle + \\beta |010\\rangle - \\beta |101\\rangle - \\beta |110\\rangle).\n",
    "$$\n",
    ">\n",
    ">#### 4️⃣ Measurement and Conditional Gates 🎯  \n",
    "We now perform **measurements on the first and second qubits**.  \n",
    "Based on these measurement outcomes, we determine the state of the **target qubit (third qubit)**  \n",
    "and apply the appropriate **controlled gates** to recover **$\\left|\\psi\\right\\rangle$** in the target qubit.  \n",
    ">\n",
    ">The results are summarized in **Table 2**:  \n",
    ">\n",
    ">| **Measurement Result** | **State of Target Qubit** | **Controlled Gates Applied** |\n",
    "|----------------|--------------------------------|-----------------------------|\n",
    "| **$\\left|00\\right\\rangle$** | **$\\alpha\\left|0\\right\\rangle + \\beta\\left|1\\right\\rangle$** | **None** (Identity) |\n",
    "| **$\\left|01\\right\\rangle$** | **$\\alpha\\left|1\\right\\rangle + \\beta\\left|0\\right\\rangle$** | **Apply X** (Swaps $\\left|0\\right\\rangle$ and $\\left|1\\right\\rangle$) |\n",
    "| **$\\left|10\\right\\rangle$** | **$\\alpha\\left|0\\right\\rangle - \\beta\\left|1\\right\\rangle$** | **Apply Z** (Flips sign of $\\left|1\\right\\rangle$) |\n",
    "| **$\\left|11\\right\\rangle$** | **$\\alpha\\left|1\\right\\rangle - \\beta\\left|0\\right\\rangle$** | **Apply X, then Z** |\n",
    ">\n",
    ">**Table 2**: Controlled-X (C-X) and Controlled-Z (C-Z) gates applied to the **target qubit**  \n",
    "based on measurement results.\n"
   ]
  },
  {
   "cell_type": "markdown",
   "id": "b413250e",
   "metadata": {},
   "source": [
    "<div class=\"alert alert-block alert-info\">\n",
    "<b>Next:</b> <br>1. Build shor algorithms  <br>\n",
    "2. Contribute to open-source code on GitHub  <br>\n",
    "3. See how it connects to AI and the TensorFlow library  \n",
    "</div>"
   ]
  }
 ],
 "metadata": {
  "kernelspec": {
   "display_name": "Python 3 (ipykernel)",
   "language": "python",
   "name": "python3"
  },
  "language_info": {
   "codemirror_mode": {
    "name": "ipython",
    "version": 3
   },
   "file_extension": ".py",
   "mimetype": "text/x-python",
   "name": "python",
   "nbconvert_exporter": "python",
   "pygments_lexer": "ipython3",
   "version": "3.10.13"
  }
 },
 "nbformat": 4,
 "nbformat_minor": 5
}
